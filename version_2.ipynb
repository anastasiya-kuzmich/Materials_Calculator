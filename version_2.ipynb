{
 "cells": [
  {
   "attachments": {},
   "cell_type": "markdown",
   "metadata": {},
   "source": [
    "# Materials Calculator: Version 2\n",
    "\n",
    "## Instructions:\n",
    "\n",
    "1. Go to the \"Items tab\" of your Excel Sheet working copy.\n",
    "2. Save as > File Format > CSV\n",
    "3. Drag and drop the file into the menu on the left + right click it to \"Copy Path\"\n",
    "4. Run the notebook and insert the pathname when prompted\n",
    "5. Insert the item quantities, one by one, as prompted\n",
    "6. Tadaaaa!\n",
    "\n",
    "\n",
    "Nas path - /Users/anastasiakuzmich/Desktop/YAKU_Season 1_Cost Sheet_Nas_Reformat.csv"
   ]
  },
  {
   "cell_type": "code",
   "execution_count": 25,
   "metadata": {},
   "outputs": [
    {
     "data": {
      "text/html": [
       "<div>\n",
       "<style scoped>\n",
       "    .dataframe tbody tr th:only-of-type {\n",
       "        vertical-align: middle;\n",
       "    }\n",
       "\n",
       "    .dataframe tbody tr th {\n",
       "        vertical-align: top;\n",
       "    }\n",
       "\n",
       "    .dataframe thead th {\n",
       "        text-align: right;\n",
       "    }\n",
       "</style>\n",
       "<table border=\"1\" class=\"dataframe\">\n",
       "  <thead>\n",
       "    <tr style=\"text-align: right;\">\n",
       "      <th></th>\n",
       "      <th>I-Code</th>\n",
       "      <th>Item Name</th>\n",
       "      <th>C-Code</th>\n",
       "      <th>Cost Name</th>\n",
       "      <th>Dye_Type</th>\n",
       "      <th>Description</th>\n",
       "      <th>Yield</th>\n",
       "      <th>UOM</th>\n",
       "      <th>Supplier</th>\n",
       "      <th>Cost Per</th>\n",
       "      <th>...</th>\n",
       "      <th>Unnamed: 17</th>\n",
       "      <th>Unnamed: 18</th>\n",
       "      <th>Unnamed: 19</th>\n",
       "      <th>Unnamed: 20</th>\n",
       "      <th>Unnamed: 21</th>\n",
       "      <th>Unnamed: 22</th>\n",
       "      <th>Unnamed: 23</th>\n",
       "      <th>Unnamed: 24</th>\n",
       "      <th>Unnamed: 25</th>\n",
       "      <th>Unnamed: 26</th>\n",
       "    </tr>\n",
       "  </thead>\n",
       "  <tbody>\n",
       "    <tr>\n",
       "      <th>231</th>\n",
       "      <td>YS1_GIL_S_RED</td>\n",
       "      <td>S-Gilet (Red)</td>\n",
       "      <td>M0022</td>\n",
       "      <td>Red Waterproof Nylon</td>\n",
       "      <td>NaN</td>\n",
       "      <td>NaN</td>\n",
       "      <td>3.0</td>\n",
       "      <td>m</td>\n",
       "      <td>TBC</td>\n",
       "      <td>£-</td>\n",
       "      <td>...</td>\n",
       "      <td>NaN</td>\n",
       "      <td>NaN</td>\n",
       "      <td>NaN</td>\n",
       "      <td>NaN</td>\n",
       "      <td>NaN</td>\n",
       "      <td>NaN</td>\n",
       "      <td>NaN</td>\n",
       "      <td>NaN</td>\n",
       "      <td>NaN</td>\n",
       "      <td>NaN</td>\n",
       "    </tr>\n",
       "  </tbody>\n",
       "</table>\n",
       "<p>1 rows × 27 columns</p>\n",
       "</div>"
      ],
      "text/plain": [
       "            I-Code        Item Name C-Code             Cost Name Dye_Type  \\\n",
       "231  YS1_GIL_S_RED   S-Gilet (Red)   M0022  Red Waterproof Nylon      NaN   \n",
       "\n",
       "    Description  Yield UOM Supplier Cost Per  ... Unnamed: 17 Unnamed: 18  \\\n",
       "231         NaN    3.0   m      TBC    £-     ...         NaN         NaN   \n",
       "\n",
       "    Unnamed: 19 Unnamed: 20  Unnamed: 21  Unnamed: 22  Unnamed: 23  \\\n",
       "231         NaN         NaN          NaN          NaN          NaN   \n",
       "\n",
       "     Unnamed: 24  Unnamed: 25  Unnamed: 26  \n",
       "231          NaN          NaN          NaN  \n",
       "\n",
       "[1 rows x 27 columns]"
      ]
     },
     "execution_count": 25,
     "metadata": {},
     "output_type": "execute_result"
    }
   ],
   "source": [
    "# nylon_list = [\"Atomic Blue Waterproof nylon\", \"Ripstop Nylon\", \"Red Waterproof Nylon\"]\n",
    "\n",
    "# costs = costs[costs[\"Cost Name\"].isin(nylon_list)]\n",
    "# costs\n",
    "\n"
   ]
  },
  {
   "cell_type": "code",
   "execution_count": 26,
   "metadata": {},
   "outputs": [],
   "source": [
    "### CLEANING\n",
    "\n",
    "costs = costs.dropna(how='all', axis=1)\n",
    "costs = costs.dropna(how='all', axis=0)\n",
    "\n",
    "# hide_toggle()"
   ]
  },
  {
   "cell_type": "code",
   "execution_count": 27,
   "metadata": {},
   "outputs": [],
   "source": [
    "## Drop unnamed columns\n",
    "\n",
    "to_drop = costs.columns[costs.columns.str.startswith('Unnamed')]\n",
    "costs.drop(to_drop, axis=1, inplace=True)"
   ]
  },
  {
   "cell_type": "code",
   "execution_count": 28,
   "metadata": {},
   "outputs": [
    {
     "data": {
      "text/html": [
       "<div>\n",
       "<style scoped>\n",
       "    .dataframe tbody tr th:only-of-type {\n",
       "        vertical-align: middle;\n",
       "    }\n",
       "\n",
       "    .dataframe tbody tr th {\n",
       "        vertical-align: top;\n",
       "    }\n",
       "\n",
       "    .dataframe thead th {\n",
       "        text-align: right;\n",
       "    }\n",
       "</style>\n",
       "<table border=\"1\" class=\"dataframe\">\n",
       "  <thead>\n",
       "    <tr style=\"text-align: right;\">\n",
       "      <th></th>\n",
       "      <th>I-Code</th>\n",
       "      <th>Item Name</th>\n",
       "      <th>C-Code</th>\n",
       "      <th>Cost Name</th>\n",
       "      <th>Yield</th>\n",
       "      <th>UOM</th>\n",
       "      <th>Supplier</th>\n",
       "      <th>Cost Per</th>\n",
       "      <th>Unit Cost</th>\n",
       "      <th>Cost Label</th>\n",
       "      <th>Cost Sublabel</th>\n",
       "      <th>Season</th>\n",
       "    </tr>\n",
       "  </thead>\n",
       "  <tbody>\n",
       "    <tr>\n",
       "      <th>231</th>\n",
       "      <td>YS1_GIL_S_RED</td>\n",
       "      <td>S-Gilet (Red)</td>\n",
       "      <td>M0022</td>\n",
       "      <td>Red Waterproof Nylon</td>\n",
       "      <td>3.0</td>\n",
       "      <td>m</td>\n",
       "      <td>TBC</td>\n",
       "      <td>£-</td>\n",
       "      <td>£-</td>\n",
       "      <td>Materials</td>\n",
       "      <td>Fabric</td>\n",
       "      <td>YS1</td>\n",
       "    </tr>\n",
       "  </tbody>\n",
       "</table>\n",
       "</div>"
      ],
      "text/plain": [
       "            I-Code      Item Name C-Code             Cost Name  Yield UOM  \\\n",
       "231  YS1_GIL_S_RED  S-Gilet (Red)  M0022  Red Waterproof Nylon    3.0   m   \n",
       "\n",
       "    Supplier Cost Per Unit Cost Cost Label Cost Sublabel Season  \n",
       "231      TBC    £-        £-     Materials        Fabric    YS1  "
      ]
     },
     "execution_count": 28,
     "metadata": {},
     "output_type": "execute_result"
    }
   ],
   "source": [
    "costs[\"Description\"] = costs[\"Description\"].fillna(\"\")\n",
    "costs['Item Name'] = costs['Item Name'].str.strip()\n",
    "costs"
   ]
  },
  {
   "cell_type": "code",
   "execution_count": 29,
   "metadata": {},
   "outputs": [],
   "source": [
    "for column in costs.columns:\n",
    "    costs[column] = costs[column].fillna(\"\")"
   ]
  },
  {
   "cell_type": "code",
   "execution_count": 30,
   "metadata": {},
   "outputs": [
    {
     "name": "stdout",
     "output_type": "stream",
     "text": [
      "Would you like to filter by season? (y/n)n\n"
     ]
    }
   ],
   "source": [
    "### SEASON FILTER\n",
    "    \n",
    "season_filter = input(\"Would you like to filter by season? (y/n)\")\n",
    "\n",
    "if season_filter == \"n\":\n",
    "    pass\n",
    "elif season_filter == \"y\":\n",
    "    season_selector = input(\"Enter M for mainline, R for resort or B for both:\")\n",
    "    if season_selector.lower() == \"m\":\n",
    "        costs = costs[costs[\"Season\"] == \"YS1\"]\n",
    "        costs = pd.DataFrame(costs)\n",
    "    elif season_selector.lower() == \"r\":\n",
    "        costs = costs[costs[\"Season\"] == \"YR1\"]\n",
    "        costs = pd.DataFrame(costs)\n",
    "    else:\n",
    "        pass"
   ]
  },
  {
   "cell_type": "code",
   "execution_count": 31,
   "metadata": {
    "scrolled": true
   },
   "outputs": [],
   "source": [
    "### CLEANING\n",
    "\n",
    "new_costs = []\n",
    "\n",
    "for cost_name, item_name, description, uom, dye_colour in zip(costs['Cost Name'], costs['Item Name'], costs[\"Description\"], costs[\"UOM\"], costs[\"Dye_Type\"]):\n",
    "\n",
    "    Renaming dyes for clarity on colour\n",
    "    if cost_name == \"Dye\":\n",
    "        new_costs.append(str(cost_name + \" - \" + dye_colour))\n",
    "        \n",
    "    # Replacing question marks with Item Names for Clarity\n",
    "    elif \"?\" in cost_name:\n",
    "        replacement = \"for\" + str(item_name)\n",
    "        new_costs.append(cost_name.replace('?\"', replacement))\n",
    "        \n",
    "    # Adding the material kind to YKK zips\n",
    "    elif \"YKK\" in cost_name:\n",
    "        new_costs.append(str(cost_name + \" (\" + description + \")\"))\n",
    "    \n",
    "    # Adding the size to the Sublimation Dyes\n",
    "    elif cost_name == \"Sublimation Dye\":\n",
    "        new_costs.append(str(cost_name + \" (\" + uom + \")\"))\n",
    "        \n",
    "    elif cost_name == \"Sublimation Print\":\n",
    "        new_costs.append(str(cost_name + \" - \" + dye_colour))\n",
    "    \n",
    "    else:\n",
    "        new_costs.append(cost_name)\n",
    "        \n",
    "for cost_name, item_name, uom in zip(costs['Cost Name'], costs['Item Name'], costs[\"UOM\"]):\n",
    "    \n",
    "    # Renaming dyes for clarity on colour\n",
    "    if cost_name == \"Dye\":\n",
    "        new_costs.append(str(cost_name + \" - \" + dye_colour))\n",
    "        \n",
    "    # Replacing question marks with Item Names for Clarity\n",
    "    elif \"?\" in cost_name:\n",
    "        replacement = \"for\" + str(item_name)\n",
    "        new_costs.append(cost_name.replace('?\"', replacement))\n",
    "        \n",
    "#     # Adding the material kind to YKK zips\n",
    "#     elif \"YKK\" in cost_name:\n",
    "#         new_costs.append(str(cost_name + \" (\" + description + \")\"))\n",
    "    \n",
    "    # Adding the size to the Sublimation Dyes\n",
    "    elif cost_name == \"Sublimation Dye\":\n",
    "        new_costs.append(str(cost_name + \" (\" + uom + \")\"))\n",
    "        \n",
    "    elif cost_name == \"Sublimation Print\":\n",
    "        new_costs.append(str(cost_name + \" - \" + dye_colour))\n",
    "    \n",
    "    else:\n",
    "        new_costs.append(cost_name)\n",
    "\n",
    "costs[\"costs\"] = new_costs"
   ]
  },
  {
   "cell_type": "code",
   "execution_count": 32,
   "metadata": {
    "scrolled": false
   },
   "outputs": [
    {
     "data": {
      "text/html": [
       "<div>\n",
       "<style scoped>\n",
       "    .dataframe tbody tr th:only-of-type {\n",
       "        vertical-align: middle;\n",
       "    }\n",
       "\n",
       "    .dataframe tbody tr th {\n",
       "        vertical-align: top;\n",
       "    }\n",
       "\n",
       "    .dataframe thead th {\n",
       "        text-align: right;\n",
       "    }\n",
       "</style>\n",
       "<table border=\"1\" class=\"dataframe\">\n",
       "  <thead>\n",
       "    <tr style=\"text-align: right;\">\n",
       "      <th></th>\n",
       "      <th>Item Name</th>\n",
       "      <th>Yield</th>\n",
       "      <th>UOM</th>\n",
       "      <th>Supplier</th>\n",
       "      <th>Cost Per</th>\n",
       "      <th>Season</th>\n",
       "      <th>costs</th>\n",
       "    </tr>\n",
       "  </thead>\n",
       "  <tbody>\n",
       "    <tr>\n",
       "      <th>231</th>\n",
       "      <td>S-Gilet (Red)</td>\n",
       "      <td>3.0</td>\n",
       "      <td>m</td>\n",
       "      <td>TBC</td>\n",
       "      <td>£-</td>\n",
       "      <td>YS1</td>\n",
       "      <td>Red Waterproof Nylon</td>\n",
       "    </tr>\n",
       "  </tbody>\n",
       "</table>\n",
       "</div>"
      ],
      "text/plain": [
       "         Item Name  Yield UOM Supplier Cost Per Season                 costs\n",
       "231  S-Gilet (Red)    3.0   m      TBC    £-       YS1  Red Waterproof Nylon"
      ]
     },
     "execution_count": 32,
     "metadata": {},
     "output_type": "execute_result"
    }
   ],
   "source": [
    "new_UOM = []\n",
    "\n",
    "for uom in costs[\"UOM\"]:\n",
    "    if \"A\" in uom:\n",
    "        new_UOM.append(\"pcs\")\n",
    "    else:\n",
    "        new_UOM.append(uom)\n",
    "\n",
    "costs[\"UOM\"] = new_UOM\n",
    "\n",
    "material_costs = costs[costs[\"Cost Label\"] == \"Materials\"]\n",
    "\n",
    "material_costs = material_costs.drop([\"C-Code\", \"Cost Name\", \"I-Code\", \"Unit Cost\", \"Cost Label\", \"Cost Sublabel\"], axis=1)\n",
    "# material_costs = material_costs.drop([\"C-Code\", \"Cost Name\", \"I-Code\", \"Unit Cost\", \"Cost Label\", \"Cost Sublabel\", \"Description\"], axis=1)\n",
    "\n",
    "material_costs"
   ]
  },
  {
   "cell_type": "code",
   "execution_count": 33,
   "metadata": {
    "scrolled": true
   },
   "outputs": [
    {
     "data": {
      "text/html": [
       "<div>\n",
       "<style scoped>\n",
       "    .dataframe tbody tr th:only-of-type {\n",
       "        vertical-align: middle;\n",
       "    }\n",
       "\n",
       "    .dataframe tbody tr th {\n",
       "        vertical-align: top;\n",
       "    }\n",
       "\n",
       "    .dataframe thead th {\n",
       "        text-align: right;\n",
       "    }\n",
       "</style>\n",
       "<table border=\"1\" class=\"dataframe\">\n",
       "  <thead>\n",
       "    <tr style=\"text-align: right;\">\n",
       "      <th></th>\n",
       "      <th>Item Name</th>\n",
       "      <th>Units</th>\n",
       "      <th>UOM</th>\n",
       "      <th>Supplier</th>\n",
       "      <th>Cost Per Unit</th>\n",
       "      <th>Season</th>\n",
       "      <th>Material</th>\n",
       "    </tr>\n",
       "  </thead>\n",
       "  <tbody>\n",
       "    <tr>\n",
       "      <th>231</th>\n",
       "      <td>S-Gilet (Red)</td>\n",
       "      <td>3.0</td>\n",
       "      <td>m</td>\n",
       "      <td>TBC</td>\n",
       "      <td>0.0</td>\n",
       "      <td>YS1</td>\n",
       "      <td>Red Waterproof Nylon</td>\n",
       "    </tr>\n",
       "  </tbody>\n",
       "</table>\n",
       "</div>"
      ],
      "text/plain": [
       "         Item Name  Units UOM Supplier  Cost Per Unit Season  \\\n",
       "231  S-Gilet (Red)    3.0   m      TBC            0.0    YS1   \n",
       "\n",
       "                 Material  \n",
       "231  Red Waterproof Nylon  "
      ]
     },
     "execution_count": 33,
     "metadata": {},
     "output_type": "execute_result"
    }
   ],
   "source": [
    "cost_per = []\n",
    "\n",
    "for cost in material_costs[\"Cost Per\"]:\n",
    "    if \"-\" in cost:\n",
    "        cost_per.append(\"0\")\n",
    "    elif \"£\" in cost:\n",
    "        cost_per.append(cost.replace(\"£\", \"\"))\n",
    "    else:\n",
    "        cost_per.append(cost)\n",
    "\n",
    "cost_per = [float(i) for i in cost_per]\n",
    "material_costs[\"Cost Per\"] = cost_per\n",
    "\n",
    "del new_costs, new_UOM, cost_per\n",
    "\n",
    "material_costs = material_costs.rename(columns={\"Yield\": \"Units\", \"Cost Per\": \"Cost Per Unit\", \"costs\" : \"Material\"})\n",
    "\n",
    "costs = pd.DataFrame(material_costs)\n",
    "\n",
    "costs"
   ]
  },
  {
   "cell_type": "code",
   "execution_count": 34,
   "metadata": {
    "scrolled": false
   },
   "outputs": [
    {
     "name": "stdout",
     "output_type": "stream",
     "text": [
      "How many S-Gilet (Red)?7\n"
     ]
    }
   ],
   "source": [
    "### USER INPUT - ORDER QUANTITY\n",
    "\n",
    "item_names = {}\n",
    "\n",
    "for item_name in costs[\"Item Name\"].unique():\n",
    "    item_names[item_name] = 0\n",
    "    \n",
    "for key, value in item_names.items():\n",
    "    item_names[key] = int(input(\"How many \" + key + \"?\"))"
   ]
  },
  {
   "cell_type": "code",
   "execution_count": 35,
   "metadata": {},
   "outputs": [
    {
     "data": {
      "text/html": [
       "<div>\n",
       "<style scoped>\n",
       "    .dataframe tbody tr th:only-of-type {\n",
       "        vertical-align: middle;\n",
       "    }\n",
       "\n",
       "    .dataframe tbody tr th {\n",
       "        vertical-align: top;\n",
       "    }\n",
       "\n",
       "    .dataframe thead th {\n",
       "        text-align: right;\n",
       "    }\n",
       "</style>\n",
       "<table border=\"1\" class=\"dataframe\">\n",
       "  <thead>\n",
       "    <tr style=\"text-align: right;\">\n",
       "      <th></th>\n",
       "      <th>Item Name</th>\n",
       "      <th>Units</th>\n",
       "      <th>UOM</th>\n",
       "      <th>Supplier</th>\n",
       "      <th>Cost Per Unit</th>\n",
       "      <th>Season</th>\n",
       "      <th>Material</th>\n",
       "      <th>Quantity</th>\n",
       "      <th>Total Units</th>\n",
       "      <th>Total Cost</th>\n",
       "    </tr>\n",
       "  </thead>\n",
       "  <tbody>\n",
       "    <tr>\n",
       "      <th>231</th>\n",
       "      <td>S-Gilet (Red)</td>\n",
       "      <td>3.0</td>\n",
       "      <td>m</td>\n",
       "      <td>TBC</td>\n",
       "      <td>0.0</td>\n",
       "      <td>YS1</td>\n",
       "      <td>Red Waterproof Nylon</td>\n",
       "      <td>7</td>\n",
       "      <td>21.0</td>\n",
       "      <td>0.0</td>\n",
       "    </tr>\n",
       "  </tbody>\n",
       "</table>\n",
       "</div>"
      ],
      "text/plain": [
       "         Item Name  Units UOM Supplier  Cost Per Unit Season  \\\n",
       "231  S-Gilet (Red)    3.0   m      TBC            0.0    YS1   \n",
       "\n",
       "                 Material  Quantity  Total Units  Total Cost  \n",
       "231  Red Waterproof Nylon         7         21.0         0.0  "
      ]
     },
     "execution_count": 35,
     "metadata": {},
     "output_type": "execute_result"
    }
   ],
   "source": [
    "##### CALCULATIONS\n",
    "\n",
    "costs['Quantity'] = costs['Item Name'].map(item_names)\n",
    "\n",
    "material_costs = costs.copy()\n",
    "\n",
    "material_costs[\"Total Units\"] = material_costs[\"Units\"] * material_costs[\"Quantity\"]\n",
    "\n",
    "material_costs[\"Total Cost\"] = material_costs[\"Total Units\"] * material_costs[\"Cost Per Unit\"]\n",
    "\n",
    "material_costs.head()"
   ]
  },
  {
   "cell_type": "code",
   "execution_count": 36,
   "metadata": {},
   "outputs": [],
   "source": [
    "del material_costs[\"Item Name\"]"
   ]
  },
  {
   "cell_type": "code",
   "execution_count": 37,
   "metadata": {},
   "outputs": [
    {
     "name": "stdout",
     "output_type": "stream",
     "text": [
      "Your Quantity Request:\n",
      "\n",
      "\n",
      "7 S-Gilet (Red)s\n",
      "\n",
      "\n",
      "This order will cost you 0.0 in total\n",
      "\n",
      "\n",
      "Your price breakdown is:\n"
     ]
    }
   ],
   "source": [
    "### OUTPUT\n",
    "\n",
    "print(\"Your Quantity Request:\")\n",
    "\n",
    "print(\"\\n\")\n",
    "\n",
    "for key, value in item_names.items():\n",
    "    print(str(value) + \" \" + str(key) + \"s\")\n",
    "    \n",
    "print(\"\\n\")\n",
    "\n",
    "print(\"This order will cost you\", round(material_costs[\"Total Cost\"].sum(),2), \"in total\")\n",
    "print(\"\\n\")\n",
    "print(\"Your price breakdown is:\")"
   ]
  },
  {
   "cell_type": "code",
   "execution_count": 38,
   "metadata": {
    "scrolled": false
   },
   "outputs": [
    {
     "data": {
      "text/html": [
       "<div>\n",
       "<style scoped>\n",
       "    .dataframe tbody tr th:only-of-type {\n",
       "        vertical-align: middle;\n",
       "    }\n",
       "\n",
       "    .dataframe tbody tr th {\n",
       "        vertical-align: top;\n",
       "    }\n",
       "\n",
       "    .dataframe thead th {\n",
       "        text-align: right;\n",
       "    }\n",
       "</style>\n",
       "<table border=\"1\" class=\"dataframe\">\n",
       "  <thead>\n",
       "    <tr style=\"text-align: right;\">\n",
       "      <th></th>\n",
       "      <th>Material</th>\n",
       "      <th>Total Units</th>\n",
       "      <th>Total Cost</th>\n",
       "    </tr>\n",
       "  </thead>\n",
       "  <tbody>\n",
       "    <tr>\n",
       "      <th>0</th>\n",
       "      <td>Red Waterproof Nylon</td>\n",
       "      <td>21.0</td>\n",
       "      <td>0.0</td>\n",
       "    </tr>\n",
       "  </tbody>\n",
       "</table>\n",
       "</div>"
      ],
      "text/plain": [
       "               Material  Total Units  Total Cost\n",
       "0  Red Waterproof Nylon         21.0         0.0"
      ]
     },
     "execution_count": 38,
     "metadata": {},
     "output_type": "execute_result"
    }
   ],
   "source": [
    "\n",
    "\n",
    "# mat_and_uom = {}\n",
    "\n",
    "# for material, uom in zip(material_costs['Material'], material_costs['UOM']):\n",
    "#     if material not in mat_and_uom.keys():\n",
    "#         mat_and_uom[material] = uom\n",
    "        \n",
    "# mat_and_sup = {}\n",
    "\n",
    "# for material, sup in zip(material_costs['Material'], material_costs['Supplier']):\n",
    "#     if material not in mat_and_sup.keys():\n",
    "#         mat_and_sup[material] = sup\n",
    "\n",
    "# output_costs['Units of Measure'] = output_costs['Material'].map(mat_and_uom)\n",
    "# output_costs['Supplier'] = output_costs['Material'].map(mat_and_sup)\n",
    "\n",
    "# output_costs = output_costs[[\"Material\", \"Total Units\", \"Units of Measure\", \"Total Cost\", \"Supplier\"]].sort_values(by=\"Supplier\")\n",
    "\n",
    "output_costs"
   ]
  },
  {
   "cell_type": "code",
   "execution_count": null,
   "metadata": {},
   "outputs": [],
   "source": []
  }
 ],
 "metadata": {
  "kernelspec": {
   "display_name": "Python 3 (ipykernel)",
   "language": "python",
   "name": "python3"
  },
  "language_info": {
   "codemirror_mode": {
    "name": "ipython",
    "version": 3
   },
   "file_extension": ".py",
   "mimetype": "text/x-python",
   "name": "python",
   "nbconvert_exporter": "python",
   "pygments_lexer": "ipython3",
   "version": "3.11.2"
  }
 },
 "nbformat": 4,
 "nbformat_minor": 2
}
